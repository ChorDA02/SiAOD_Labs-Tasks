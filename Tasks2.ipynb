{
 "cells": [
  {
   "cell_type": "markdown",
   "id": "arctic-stocks",
   "metadata": {},
   "source": [
    "### Задание №1\n",
    "Массив A состоит из целых положительных чисел длин отрезков. Составьте из трех отрезков такой треугольник, чтобы его периметр был максимально возможным. Если невозможно составить треугольник с положительной площадью функция возвращает 0."
   ]
  },
  {
   "cell_type": "code",
   "execution_count": 1,
   "id": "caring-truck",
   "metadata": {
    "scrolled": false
   },
   "outputs": [
    {
     "name": "stdout",
     "output_type": "stream",
     "text": [
      "24\n"
     ]
    }
   ],
   "source": [
    "def task1(array):\n",
    "    array.sort()\n",
    "    for i in range(len(array) - 3,-1,-1):\n",
    "        if array[i] + array[i + 1] > array[i + 2]:\n",
    "            return array[i] + array[i + 1] + array[i + 2]\n",
    "    return 0\n",
    "print(task1([1,2,3,4,5,6,7,8,9,0]))"
   ]
  },
  {
   "cell_type": "markdown",
   "id": "maritime-conversation",
   "metadata": {},
   "source": [
    "### Задание №2\n",
    "Дан массив неотрицательных целых чисел nums. Расположите их в таком порядке, чтобы вместе они образовали максимально возможное число. Замечание: Результат может быть очень большим числом, поэтому представьте его как string, а не integer."
   ]
  },
  {
   "cell_type": "code",
   "execution_count": 10,
   "id": "a29c94cd",
   "metadata": {},
   "outputs": [
    {
     "name": "stdout",
     "output_type": "stream",
     "text": [
      "99999999998999997999989897100\n"
     ]
    }
   ],
   "source": [
    "def task2(nums):\n",
    "    string = \"\"\n",
    "    for i in range(len(nums)):\n",
    "        for j in range(0,len(nums)-i-1):\n",
    "            a = list(str(nums[j]))\n",
    "            b = list(str(nums[j+1]))\n",
    "            k1 = 0\n",
    "            for k in range(0,min(len(a),len(b))):\n",
    "                if a[k] >= b[k]:\n",
    "                    if a[k] > b[k]:\n",
    "                        nums[j],nums[j+1] = nums[j+1],nums[j]\n",
    "                        k1 = -1\n",
    "                        break\n",
    "                else:\n",
    "                    break\n",
    "            for k in range(0,min(len(a),len(b))):\n",
    "                if (a[k] >= b[k]) and (len(a) < len(b)):\n",
    "                    k1+=1\n",
    "            if k1 >= len(a):\n",
    "                nums[j],nums[j+1] = nums[j+1],nums[j]\n",
    "    for i in range(len(nums)-1,-1,-1):\n",
    "        string += str(nums[i])\n",
    "    return string\n",
    "print(task2([9, 98, 998, 97, 100, 999, 9999998, 99999799]))"
   ]
  },
  {
   "cell_type": "markdown",
   "id": "catholic-roots",
   "metadata": {},
   "source": [
    "### Задание №3\n",
    "Дана матрица mat размером m * n, значения целочисленные. Напишите функцию, сортирующую каждую диагональ матрицы по возрастанию и возвращающую получившуюся матрицу."
   ]
  },
  {
   "cell_type": "markdown",
   "id": "2852d8ab",
   "metadata": {
    "scrolled": false
   },
   "source": [
    "Генератор матриц"
   ]
  },
  {
   "cell_type": "code",
   "execution_count": 5,
   "id": "218d0165",
   "metadata": {},
   "outputs": [],
   "source": [
    "import random\n",
    "def generate_matrix(matrix,min_limit,max_limit):\n",
    "    for i in range(0,len(matrix[0])):\n",
    "        for j in range(0,len(matrix)):\n",
    "            matrix[j][i] = random.randint(min_limit,max_limit)\n",
    "    return matrix"
   ]
  },
  {
   "cell_type": "markdown",
   "id": "44c0bdca",
   "metadata": {},
   "source": [
    "Сортировщик диагоналей"
   ]
  },
  {
   "cell_type": "code",
   "execution_count": 8,
   "id": "0637b170",
   "metadata": {},
   "outputs": [],
   "source": [
    "def task3(matrix):\n",
    "    for i in range(1,len(matrix[0])):\n",
    "        mass = []\n",
    "        s = i\n",
    "        c = 0\n",
    "        while s >= 0 and c >= 0:\n",
    "            if s < len(matrix[0]) and c < len(matrix):\n",
    "                mass.append(matrix[c][s])\n",
    "            s-=1\n",
    "            c+=1\n",
    "        mass.sort()\n",
    "        s=i\n",
    "        c=0\n",
    "        for j in range(0,max(len(matrix[0]),len(matrix))):\n",
    "            if s>=0 and c>=0:\n",
    "                if s < len(matrix[0]) and c < len(matrix):\n",
    "                    matrix[c][s] = mass[j]\n",
    "                s-=1\n",
    "                c+=1\n",
    "    for i in range(1,len(matrix)):\n",
    "        mass = []\n",
    "        s = len(matrix[0])-1\n",
    "        c = i\n",
    "        while s >= 0 and c >= 0:\n",
    "            if s < len(matrix[0]) and c < len(matrix):\n",
    "                mass.append(matrix[c][s])\n",
    "            s-=1\n",
    "            c+=1\n",
    "        mass.sort()\n",
    "        s=len(matrix[0])-1\n",
    "        c=i\n",
    "        for j in range(0,max(len(matrix[0]),len(matrix))):\n",
    "            if s>=0 and c>=0:\n",
    "                if s < len(matrix[0]) and c < len(matrix):\n",
    "                    matrix[c][s] = mass[j]\n",
    "                s-=1\n",
    "                c+=1"
   ]
  },
  {
   "cell_type": "markdown",
   "id": "8f790b6d",
   "metadata": {},
   "source": [
    "Генерируем матрицу"
   ]
  },
  {
   "cell_type": "code",
   "execution_count": 6,
   "id": "ded3dba7",
   "metadata": {},
   "outputs": [
    {
     "name": "stdout",
     "output_type": "stream",
     "text": [
      "9 5 9 1 8 \n",
      "4 2 7 5 1 \n",
      "4 1 0 0 1 \n",
      "5 7 5 2 1 \n",
      "5 3 8 8 0 \n"
     ]
    }
   ],
   "source": [
    "matrix = [[0]*5 for i in range(5)]\n",
    "generate_matrix(matrix,0,9)\n",
    "for i in range(len(matrix[0])):\n",
    "    for j in range(len(matrix)):\n",
    "        print(matrix[j][i], end=' ')\n",
    "    print()"
   ]
  },
  {
   "cell_type": "markdown",
   "id": "50bdd5f1",
   "metadata": {},
   "source": [
    "Сортируем диагонали"
   ]
  },
  {
   "cell_type": "code",
   "execution_count": 9,
   "id": "9b6babf7",
   "metadata": {},
   "outputs": [
    {
     "name": "stdout",
     "output_type": "stream",
     "text": [
      "9 5 9 7 8 \n",
      "4 4 5 7 5 \n",
      "2 1 5 3 8 \n",
      "1 5 1 2 8 \n",
      "0 0 1 1 0 \n"
     ]
    }
   ],
   "source": [
    "task3(matrix)\n",
    "for i in range(len(matrix[0])):\n",
    "    for j in range(len(matrix)):\n",
    "        print(matrix[j][i], end=' ')\n",
    "    print()"
   ]
  }
 ],
 "metadata": {
  "kernelspec": {
   "display_name": "Python 3 (ipykernel)",
   "language": "python",
   "name": "python3"
  },
  "language_info": {
   "codemirror_mode": {
    "name": "ipython",
    "version": 3
   },
   "file_extension": ".py",
   "mimetype": "text/x-python",
   "name": "python",
   "nbconvert_exporter": "python",
   "pygments_lexer": "ipython3",
   "version": "3.9.7"
  }
 },
 "nbformat": 4,
 "nbformat_minor": 5
}
