{
 "cells": [
  {
   "cell_type": "markdown",
   "id": "arctic-stocks",
   "metadata": {},
   "source": [
    "### Задание №1\n",
    "Массив A состоит из целых положительных чисел длин отрезков. Составьте из трех отрезков такой треугольник, чтобы его периметр был максимально возможным. Если невозможно составить треугольник с положительной площадью функция возвращает 0."
   ]
  },
  {
   "cell_type": "code",
   "execution_count": 16,
   "id": "caring-truck",
   "metadata": {
    "scrolled": false
   },
   "outputs": [
    {
     "name": "stdout",
     "output_type": "stream",
     "text": [
      "24\n"
     ]
    }
   ],
   "source": [
    "def task1(array):\n",
    "    array.sort()\n",
    "    for i in range(len(array) - 3,-1,-1):\n",
    "        if array[i] + array[i + 1] > array[i + 2]:\n",
    "            return array[i] + array[i + 1] + array[i + 2]\n",
    "    return 0\n",
    "print(task1([1,2,3,4,5,6,7,8,9,0]))"
   ]
  },
  {
   "cell_type": "markdown",
   "id": "maritime-conversation",
   "metadata": {},
   "source": [
    "### Задание №2\n",
    "Дан массив неотрицательных целых чисел nums. Расположите их в таком порядке, чтобы вместе они образовали максимально возможное число. Замечание: Результат может быть очень большим числом, поэтому представьте его как string, а не integer."
   ]
  },
  {
   "cell_type": "code",
   "execution_count": 184,
   "id": "alert-charm",
   "metadata": {
    "scrolled": false
   },
   "outputs": [
    {
     "name": "stdout",
     "output_type": "stream",
     "text": [
      "99999999998999997999989897100\n"
     ]
    }
   ],
   "source": [
    "def task2(nums):\n",
    "    string = \"\"\n",
    "    strings = []\n",
    "    tup = {}\n",
    "    for i in range(0,len(nums)):\n",
    "        strings.append(''.join(str(nums[i])))\n",
    "    for i in strings:\n",
    "        key = i + '9' * (len(max(strings))-len(i))\n",
    "        if key in tup:\n",
    "            tup[key].append(i)\n",
    "        else:\n",
    "            tup[key] = [i]\n",
    "    for i in sorted(tup.keys(), reverse=True):\n",
    "        string+=''.join(map(str,tup[i]))\n",
    "    return string\n",
    "print(task2([9, 98, 998, 97, 100, 999, 9999998, 99999799]))"
   ]
  },
  {
   "cell_type": "markdown",
   "id": "catholic-roots",
   "metadata": {},
   "source": [
    "### Задание №3\n",
    "Дана матрица mat размером m * n, значения целочисленные. Напишите функцию, сортирующую каждую диагональ матрицы по возрастанию и возвращающую получившуюся матрицу."
   ]
  },
  {
   "cell_type": "markdown",
   "id": "aaa263c0",
   "metadata": {
    "scrolled": false
   },
   "source": [
    "Генератор матриц"
   ]
  },
  {
   "cell_type": "code",
   "execution_count": 1,
   "id": "cdd67ba1",
   "metadata": {},
   "outputs": [],
   "source": [
    "import random\n",
    "def generate_matrix(matrix,min_limit,max_limit):\n",
    "    for i in range(0,len(matrix[0])):\n",
    "        for j in range(0,len(matrix)):\n",
    "            matrix[j][i] = random.randint(min_limit,max_limit)\n",
    "    return matrix"
   ]
  },
  {
   "cell_type": "markdown",
   "id": "0dbabf2f",
   "metadata": {},
   "source": [
    "Сортировщик диагоналей"
   ]
  },
  {
   "cell_type": "code",
   "execution_count": 5,
   "id": "58fda36b",
   "metadata": {},
   "outputs": [],
   "source": [
    "def task3(matrix):\n",
    "    for i in range(1,len(matrix[0])):\n",
    "        mass = []\n",
    "        s = i\n",
    "        c = 0\n",
    "        while s >= 0 and c >= 0:\n",
    "            if s < len(matrix[0]) and c < len(matrix):\n",
    "                mass.append(matrix[c][s])\n",
    "            s-=1\n",
    "            c+=1\n",
    "        mass.sort()\n",
    "        s=i\n",
    "        c=0\n",
    "        for j in range(0,max(len(matrix[0]),len(matrix))):\n",
    "            if s>=0 and c>=0:\n",
    "                if s < len(matrix[0]) and c < len(matrix):\n",
    "                    matrix[c][s] = mass[j]\n",
    "                s-=1\n",
    "                c+=1\n",
    "    for i in range(1,len(matrix)):\n",
    "        mass = []\n",
    "        s = len(matrix[0])-1\n",
    "        c = i\n",
    "        while s >= 0 and c >= 0:\n",
    "            if s < len(matrix[0]) and c < len(matrix):\n",
    "                mass.append(matrix[c][s])\n",
    "            s-=1\n",
    "            c+=1\n",
    "        mass.sort()\n",
    "        s=len(matrix[0])-1\n",
    "        c=i\n",
    "        for j in range(0,max(len(matrix[0]),len(matrix))):\n",
    "            if s>=0 and c>=0:\n",
    "                if s < len(matrix[0]) and c < len(matrix):\n",
    "                    matrix[c][s] = mass[j]\n",
    "                s-=1\n",
    "                c+=1"
   ]
  },
  {
   "cell_type": "markdown",
   "id": "a5910754",
   "metadata": {},
   "source": [
    "Генерируем матрицу"
   ]
  },
  {
   "cell_type": "code",
   "execution_count": 3,
   "id": "bb7b1c2c",
   "metadata": {},
   "outputs": [
    {
     "name": "stdout",
     "output_type": "stream",
     "text": [
      "7 0 2 7 9 \n",
      "0 4 0 2 6 \n",
      "0 1 1 4 8 \n",
      "5 1 5 4 5 \n",
      "5 9 1 4 3 \n"
     ]
    }
   ],
   "source": [
    "matrix = [[0]*5 for i in range(5)]\n",
    "generate_matrix(matrix,0,9)\n",
    "for i in range(len(matrix[0])):\n",
    "    for j in range(len(matrix)):\n",
    "        print(matrix[j][i], end=' ')\n",
    "    print()"
   ]
  },
  {
   "cell_type": "markdown",
   "id": "4a960a55",
   "metadata": {},
   "source": [
    "Сортируем диагонали"
   ]
  },
  {
   "cell_type": "code",
   "execution_count": 7,
   "id": "a7eb17a9",
   "metadata": {},
   "outputs": [
    {
     "name": "stdout",
     "output_type": "stream",
     "text": [
      "7 0 4 7 9 \n",
      "0 2 5 5 9 \n",
      "0 1 2 6 8 \n",
      "0 1 5 4 5 \n",
      "1 4 1 4 3 \n"
     ]
    }
   ],
   "source": [
    "task3(matrix)\n",
    "for i in range(len(matrix[0])):\n",
    "    for j in range(len(matrix)):\n",
    "        print(matrix[j][i], end=' ')\n",
    "    print()"
   ]
  }
 ],
 "metadata": {
  "kernelspec": {
   "display_name": "Python 3 (ipykernel)",
   "language": "python",
   "name": "python3"
  },
  "language_info": {
   "codemirror_mode": {
    "name": "ipython",
    "version": 3
   },
   "file_extension": ".py",
   "mimetype": "text/x-python",
   "name": "python",
   "nbconvert_exporter": "python",
   "pygments_lexer": "ipython3",
   "version": "3.9.7"
  }
 },
 "nbformat": 4,
 "nbformat_minor": 5
}
