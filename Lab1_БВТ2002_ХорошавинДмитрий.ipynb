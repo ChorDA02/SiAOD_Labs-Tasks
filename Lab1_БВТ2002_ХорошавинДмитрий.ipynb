{
 "cells": [
  {
   "cell_type": "markdown",
   "id": "988fd983",
   "metadata": {},
   "source": [
    "# Лабораторная работа №1"
   ]
  },
  {
   "cell_type": "markdown",
   "id": "2736e075",
   "metadata": {},
   "source": [
    "## Выполнил студент группы БВТ2002 Хорошавин Дмитрий"
   ]
  },
  {
   "cell_type": "markdown",
   "id": "2f997c67",
   "metadata": {},
   "source": [
    "### Задание №1"
   ]
  },
  {
   "cell_type": "markdown",
   "id": "ae8275e1",
   "metadata": {},
   "source": [
    "Вывести текст \"Hello, World!\""
   ]
  },
  {
   "cell_type": "code",
   "execution_count": 6,
   "id": "6d3ae049",
   "metadata": {},
   "outputs": [
    {
     "name": "stdout",
     "output_type": "stream",
     "text": [
      "Hello, World!\n"
     ]
    }
   ],
   "source": [
    "print(\"Hello, World!\")"
   ]
  },
  {
   "cell_type": "markdown",
   "id": "0c212998",
   "metadata": {},
   "source": [
    "### Задание №2"
   ]
  },
  {
   "cell_type": "markdown",
   "id": "ea18d998",
   "metadata": {},
   "source": [
    "Написать генератор случайных многомерных матриц"
   ]
  },
  {
   "cell_type": "code",
   "execution_count": 7,
   "id": "8e20c097",
   "metadata": {},
   "outputs": [],
   "source": [
    "import random\n",
    "def generate_matrix(matrix,min_limit,max_limit):\n",
    "    for i in range(0,len(matrix[0])):\n",
    "        for j in range(0,len(matrix)):\n",
    "            matrix[j][i] = random.randint(min_limit,max_limit)\n",
    "    return matrix"
   ]
  },
  {
   "cell_type": "markdown",
   "id": "c059ac49",
   "metadata": {},
   "source": [
    "### Задание №3"
   ]
  },
  {
   "cell_type": "markdown",
   "id": "3ee11431",
   "metadata": {},
   "source": [
    "Реализовать методы сортировки строк матрицы и сравнить время их работы со стандартной функцией сортировки"
   ]
  },
  {
   "cell_type": "markdown",
   "id": "e71ea50a",
   "metadata": {},
   "source": [
    "##### Стандартная функция сортировки"
   ]
  },
  {
   "cell_type": "code",
   "execution_count": 8,
   "id": "27d972d6",
   "metadata": {},
   "outputs": [],
   "source": [
    "def defsort(array):\n",
    "    array.sort()\n",
    "    return array"
   ]
  },
  {
   "cell_type": "markdown",
   "id": "7b9565b2",
   "metadata": {},
   "source": [
    "##### Сортировка выбором"
   ]
  },
  {
   "cell_type": "code",
   "execution_count": 9,
   "id": "d0804665",
   "metadata": {},
   "outputs": [],
   "source": [
    "def selsort(array):\n",
    "    for main_index in range(len(array)):\n",
    "        min_index = main_index\n",
    "        for index in range(main_index, len(array)):\n",
    "            if array[index] < array[main_index]:\n",
    "                min_index = index\n",
    "        array[main_index], array[min_index] = array[min_index], array[main_index]\n",
    "    return array"
   ]
  },
  {
   "cell_type": "markdown",
   "id": "c036ae15",
   "metadata": {},
   "source": [
    "##### Сортировка вставкой"
   ]
  },
  {
   "cell_type": "code",
   "execution_count": 10,
   "id": "48b10f6e",
   "metadata": {},
   "outputs": [],
   "source": [
    "def insertsort(array):\n",
    "    for main_index in range(len(array)):\n",
    "        if main_index != len(array) - 1 and array[main_index] > array[main_index + 1]:\n",
    "            array[main_index],array[main_index+1] = array[main_index+1],array[main_index]\n",
    "            for index in range(len(array)-1,0,-1):\n",
    "                if array[index] <= array[index-1]:\n",
    "                    array[index-1],array[index] = array[index],array[index-1]\n",
    "    return array"
   ]
  },
  {
   "cell_type": "markdown",
   "id": "e06fff03",
   "metadata": {},
   "source": [
    "##### Сортировка обменом (also known as Сортировка пузырьком)"
   ]
  },
  {
   "cell_type": "code",
   "execution_count": 11,
   "id": "f58bb87d",
   "metadata": {},
   "outputs": [],
   "source": [
    "def bubblesort(array):\n",
    "    for main_index in range(len(array)):\n",
    "        for index in range(0,len(array)-main_index-1):\n",
    "            if(array[index] > array[index+1]):\n",
    "                array[index],array[index+1] = array[index+1],array[index]\n",
    "    return array"
   ]
  },
  {
   "cell_type": "markdown",
   "id": "28551e1b",
   "metadata": {},
   "source": [
    "##### Сортировка Шелла"
   ]
  },
  {
   "cell_type": "code",
   "execution_count": 12,
   "id": "5a286ec5",
   "metadata": {},
   "outputs": [],
   "source": [
    "def shellsort(array):\n",
    "    gap = len(array)//2\n",
    "    while gap > 0:\n",
    "        for i in range(gap,len(array)):\n",
    "            temp = array[i]\n",
    "            j=i\n",
    "            while j>=gap and array[j-gap]>temp:\n",
    "                array[j]=array[j-gap]\n",
    "                j-=gap\n",
    "            array[j] = temp\n",
    "        gap //= 2\n",
    "    return array"
   ]
  },
  {
   "cell_type": "markdown",
   "id": "5444f66e",
   "metadata": {},
   "source": [
    "##### Турнирная сортировка"
   ]
  },
  {
   "cell_type": "code",
   "execution_count": 14,
   "id": "c4acbbe6",
   "metadata": {},
   "outputs": [],
   "source": [
    "from queue import Queue\n",
    "def heapifyD(mass):\n",
    "    arr = []\n",
    "    for i in mass:\n",
    "        arr.append(tournirsort(i))\n",
    "    return arr\n",
    "def tournirsort(array):\n",
    "    queue = Queue()\n",
    "    for i in array:\n",
    "        queue.put(i)\n",
    "    winners = []\n",
    "    losers = []\n",
    "    heap = []\n",
    "    for i in range(min(7,len(array))):\n",
    "        heap.append(queue.get())\n",
    "        heapifyD(heap)\n",
    "    while heap:\n",
    "        heap_min = heap.heappop(heap)\n",
    "        if not winners or heap_min >= winners[-1]:\n",
    "            winners.append(heap_min)\n",
    "        else:\n",
    "            losers.append(heap_min)\n",
    "        if not queue.empty():\n",
    "            heapq.heappush(heap, queue.get())\n",
    "    if not losers:\n",
    "        return winners\n",
    "    return merge(tournament_sort(losers), winners)"
   ]
  },
  {
   "cell_type": "markdown",
   "id": "c27bf9bd",
   "metadata": {},
   "source": [
    "##### Быстрая сортировка"
   ]
  },
  {
   "cell_type": "code",
   "execution_count": 15,
   "id": "41967bd6",
   "metadata": {},
   "outputs": [],
   "source": [
    "def quicksort(array):\n",
    "    if not array:\n",
    "        return array\n",
    "    pivot = array[random.choice(range(0,len(array)))]\n",
    "    left = quicksort([x for x in array if x < pivot])\n",
    "    right = quicksort([x for x in array if x > pivot])\n",
    "    return left + [x for x in array if x == pivot] + right"
   ]
  },
  {
   "cell_type": "markdown",
   "id": "d3ab2ffc",
   "metadata": {},
   "source": [
    "##### Пирамидальная сортировка"
   ]
  },
  {
   "cell_type": "code",
   "execution_count": 16,
   "id": "702f0a19",
   "metadata": {},
   "outputs": [],
   "source": [
    "def pyramidsort(array):\n",
    "    n = len(array)\n",
    "    for i in range(n, -1, -1):\n",
    "        heapify(array,n,i)\n",
    "    for i in range(n -1, 0, -1):\n",
    "        array[i],array[0] = array[0],array[i]\n",
    "        heapify(array, i, 0)\n",
    "    return array\n",
    "def heapify(array, length, index_of_largest):\n",
    "    largest = index_of_largest\n",
    "    left = 2*index_of_largest+1\n",
    "    right = 2*index_of_largest+2\n",
    "    if left < length and array[largest] < array[left]:\n",
    "        largest = left\n",
    "    if right < length and array[largest] < array[right]:\n",
    "        largest = right\n",
    "    if largest != index_of_largest:\n",
    "        array[index_of_largest], array[largest] = array[largest], array[index_of_largest]\n",
    "        heapify(array, length, largest)"
   ]
  },
  {
   "cell_type": "markdown",
   "id": "d685ca73",
   "metadata": {},
   "source": [
    "##### Сравнение скорости выполнения"
   ]
  },
  {
   "cell_type": "markdown",
   "id": "708a1565",
   "metadata": {},
   "source": [
    "##### Стандартная сортировка"
   ]
  },
  {
   "cell_type": "code",
   "execution_count": 17,
   "id": "7492e5d0",
   "metadata": {},
   "outputs": [
    {
     "name": "stdout",
     "output_type": "stream",
     "text": [
      "Время стандартной сортировки: 0.087 секунд\n"
     ]
    }
   ],
   "source": [
    "import time\n",
    "t1 = 0\n",
    "matrix = [[0]*1000 for i in range(1000)]\n",
    "generate_matrix(matrix,-1000,1000)\n",
    "for i in range(1000):\n",
    "    prev = time.time()\n",
    "    defsort(matrix[i])\n",
    "    cur = time.time()\n",
    "    t1 += cur-prev\n",
    "print(\"Время стандартной сортировки:\", round(t1*1000)/1000, \"секунд\")"
   ]
  },
  {
   "cell_type": "markdown",
   "id": "8da11fe0",
   "metadata": {},
   "source": [
    "##### Сортировка выбором"
   ]
  },
  {
   "cell_type": "code",
   "execution_count": 18,
   "id": "fdae798a",
   "metadata": {},
   "outputs": [
    {
     "name": "stdout",
     "output_type": "stream",
     "text": [
      "Время сортировки выбором: 36.26 секунд\n"
     ]
    }
   ],
   "source": [
    "import time\n",
    "t1 = 0\n",
    "matrix = [[0]*1000 for i in range(1000)]\n",
    "generate_matrix(matrix,-1000,1000)\n",
    "for i in range(1000):\n",
    "    prev = time.time()\n",
    "    selsort(matrix[i])\n",
    "    cur = time.time()\n",
    "    t1 += cur-prev\n",
    "print(\"Время сортировки выбором:\", round(t1*1000)/1000, \"секунд\")"
   ]
  },
  {
   "cell_type": "markdown",
   "id": "2ce2051c",
   "metadata": {},
   "source": [
    "##### Сортировка вставкой"
   ]
  },
  {
   "cell_type": "code",
   "execution_count": 19,
   "id": "86b2f701",
   "metadata": {},
   "outputs": [
    {
     "name": "stdout",
     "output_type": "stream",
     "text": [
      "Время сортировки вставкой: 83.759 секунд\n"
     ]
    }
   ],
   "source": [
    "import time\n",
    "t1 = 0\n",
    "matrix = [[0]*1000 for i in range(1000)]\n",
    "generate_matrix(matrix,-1000,1000)\n",
    "for i in range(1000):\n",
    "    prev = time.time()\n",
    "    insertsort(matrix[i])\n",
    "    cur = time.time()\n",
    "    t1 += cur-prev\n",
    "print(\"Время сортировки вставкой:\", round(t1*1000)/1000, \"секунд\")"
   ]
  },
  {
   "cell_type": "markdown",
   "id": "d36f9187",
   "metadata": {},
   "source": [
    "##### Сортировка обменом"
   ]
  },
  {
   "cell_type": "code",
   "execution_count": 20,
   "id": "d9d602f6",
   "metadata": {},
   "outputs": [
    {
     "name": "stdout",
     "output_type": "stream",
     "text": [
      "Время сортировки обменом: 78.637 секунд\n"
     ]
    }
   ],
   "source": [
    "import time\n",
    "t1 = 0\n",
    "matrix = [[0]*1000 for i in range(1000)]\n",
    "generate_matrix(matrix,-1000,1000)\n",
    "for i in range(1000):\n",
    "    prev = time.time()\n",
    "    bubblesort(matrix[i])\n",
    "    cur = time.time()\n",
    "    t1 += cur-prev\n",
    "print(\"Время сортировки обменом:\", round(t1*1000)/1000, \"секунд\")"
   ]
  },
  {
   "cell_type": "markdown",
   "id": "0135eaf4",
   "metadata": {},
   "source": [
    "##### Сортировка Шелла"
   ]
  },
  {
   "cell_type": "code",
   "execution_count": 21,
   "id": "c7a3fcf2",
   "metadata": {},
   "outputs": [
    {
     "name": "stdout",
     "output_type": "stream",
     "text": [
      "Время сортировки Шелла: 2.701 секунд\n"
     ]
    }
   ],
   "source": [
    "import time\n",
    "t1 = 0\n",
    "matrix = [[0]*1000 for i in range(1000)]\n",
    "generate_matrix(matrix,-1000,1000)\n",
    "for i in range(1000):\n",
    "    prev = time.time()\n",
    "    shellsort(matrix[i])\n",
    "    cur = time.time()\n",
    "    t1 += cur-prev\n",
    "print(\"Время сортировки Шелла:\", round(t1*1000)/1000, \"секунд\")"
   ]
  },
  {
   "cell_type": "markdown",
   "id": "f73e9875",
   "metadata": {},
   "source": [
    "##### Турнирная сортировка"
   ]
  },
  {
   "cell_type": "code",
   "execution_count": 23,
   "id": "df3c59ee",
   "metadata": {},
   "outputs": [
    {
     "name": "stdout",
     "output_type": "stream",
     "text": [
      "Время турнирной сортировки: 4.329 секунд\n"
     ]
    }
   ],
   "source": [
    "import time\n",
    "t1 = 0\n",
    "matrix = [[0]*1000 for i in range(1000)]\n",
    "generate_matrix(matrix,-1000,1000)\n",
    "for i in range(1000):\n",
    "    prev = time.time()\n",
    "    tournirsort(matrix[i])\n",
    "    cur = time.time()\n",
    "    t1 += cur-prev\n",
    "print(\"Время турнирной сортировки:\", round(t1*1000)/1000, \"секунд\")"
   ]
  },
  {
   "cell_type": "markdown",
   "id": "5a569d1c",
   "metadata": {},
   "source": [
    "##### Быстрая сортировка"
   ]
  },
  {
   "cell_type": "code",
   "execution_count": 24,
   "id": "10f09e17",
   "metadata": {},
   "outputs": [
    {
     "name": "stdout",
     "output_type": "stream",
     "text": [
      "Время быстрой сортировки: 2.686 секунд\n"
     ]
    }
   ],
   "source": [
    "import time\n",
    "t1 = 0\n",
    "matrix = [[0]*1000 for i in range(1000)]\n",
    "generate_matrix(matrix,-1000,1000)\n",
    "for i in range(1000):\n",
    "    prev = time.time()\n",
    "    quicksort(matrix[i])\n",
    "    cur = time.time()\n",
    "    t1 += cur-prev\n",
    "print(\"Время быстрой сортировки:\", round(t1*1000)/1000, \"секунд\")"
   ]
  },
  {
   "cell_type": "markdown",
   "id": "f001aec8",
   "metadata": {},
   "source": [
    "##### Пирамидальная сортировка"
   ]
  },
  {
   "cell_type": "code",
   "execution_count": 25,
   "id": "2f361bda",
   "metadata": {},
   "outputs": [
    {
     "name": "stdout",
     "output_type": "stream",
     "text": [
      "Время пирамидальной сортировки: 4.342 секунд\n"
     ]
    }
   ],
   "source": [
    "import time\n",
    "t1 = 0\n",
    "matrix = [[0]*1000 for i in range(1000)]\n",
    "generate_matrix(matrix,-1000,1000)\n",
    "for i in range(1000):\n",
    "    prev = time.time()\n",
    "    pyramidsort(matrix[i])\n",
    "    cur = time.time()\n",
    "    t1 += cur-prev\n",
    "print(\"Время пирамидальной сортировки:\", round(t1*1000)/1000, \"секунд\")"
   ]
  },
  {
   "cell_type": "markdown",
   "id": "b5a24b26",
   "metadata": {},
   "source": [
    "# Вывод: наиболее быстрая функция сортировки - стандартная"
   ]
  }
 ],
 "metadata": {
  "kernelspec": {
   "display_name": "Python 3 (ipykernel)",
   "language": "python",
   "name": "python3"
  },
  "language_info": {
   "codemirror_mode": {
    "name": "ipython",
    "version": 3
   },
   "file_extension": ".py",
   "mimetype": "text/x-python",
   "name": "python",
   "nbconvert_exporter": "python",
   "pygments_lexer": "ipython3",
   "version": "3.9.7"
  }
 },
 "nbformat": 4,
 "nbformat_minor": 5
}
